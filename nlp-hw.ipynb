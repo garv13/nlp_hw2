{
  "cells": [
    {
      "cell_type": "code",
      "execution_count": 3,
      "metadata": {
        "colab": {
          "base_uri": "https://localhost:8080/"
        },
        "id": "Ulm-rupaW8Yw",
        "outputId": "d3f8e265-1fa8-41b7-8e07-5e8b3cd77446"
      },
      "outputs": [
        {
          "name": "stdout",
          "output_type": "stream",
          "text": [
            "Device available for running: \n",
            "cuda\n"
          ]
        }
      ],
      "source": [
        "import torch\n",
        "import pandas as pd\n",
        "import matplotlib.pyplot as plt \n",
        "import torch.nn as nn\n",
        "import torch.nn.functional as F\n",
        "import torch.optim as optim\n",
        "import gensim\n",
        "\n",
        "INPUT_PATH = 'C:\\\\Users\\\\garvj\\\\Downloads\\\\NLP-HW2-main\\\\NLP-HW2-main\\\\yelp_academic_dataset_review.json'\n",
        "DATASET_CSV_PATH = 'C:\\\\Users\\\\garvj\\\\Downloads\\\\NLP-HW2-main\\\\NLP-HW2-main\\\\yelp_reviews_gen.csv'\n",
        "PATH_TO_YELP_REVIEWS = INPUT_PATH\n",
        "\n",
        "device = torch.device(\"cpu\")\n",
        "print(\"Device available for running: \")\n",
        "print(device)"
      ]
    },
    {
      "cell_type": "code",
      "execution_count": 4,
      "metadata": {
        "id": "voj1HdVe9M9k"
      },
      "outputs": [],
      "source": [
        "with open(PATH_TO_YELP_REVIEWS, 'r', encoding='utf-8') as f:\n",
        "  chunks = pd.read_json(f, lines=True, chunksize = 10000)\n",
        "  for c_data in chunks:\n",
        "    x = pd.DataFrame.from_dict(c_data)\n",
        "    x.to_csv ('yelp_reviews_gen.csv',  mode='a', index=False, header=True)"
      ]
    },
    {
      "cell_type": "code",
      "execution_count": 4,
      "metadata": {
        "colab": {
          "base_uri": "https://localhost:8080/"
        },
        "id": "GCCklw579IRG",
        "outputId": "ff36a92f-d4c9-432f-8e34-28a944a56b6e"
      },
      "outputs": [
        {
          "name": "stdout",
          "output_type": "stream",
          "text": [
            "Columns in the original dataset:\n",
            "\n",
            "Index(['review_id', 'user_id', 'business_id', 'stars', 'useful', 'funny',\n",
            "       'cool', 'text', 'date'],\n",
            "      dtype='object')\n"
          ]
        }
      ],
      "source": [
        "top_data_df = pd.read_csv(DATASET_CSV_PATH)\n",
        "print(\"Columns in the original dataset:\\n\")\n",
        "print(top_data_df.columns)"
      ]
    },
    {
      "cell_type": "code",
      "execution_count": 10,
      "metadata": {
        "colab": {
          "base_uri": "https://localhost:8080/",
          "height": 596
        },
        "id": "tJKR-gCZAJeI",
        "outputId": "9def9c45-7108-40f2-c2d0-50a2ddab7b59"
      },
      "outputs": [
        {
          "name": "stdout",
          "output_type": "stream",
          "text": [
            "Number of rows per star rating:\n",
            "5        3231627\n",
            "4        1452918\n",
            "1        1069561\n",
            "3         691934\n",
            "2         544240\n",
            "stars        699\n",
            "Name: stars, dtype: int64\n"
          ]
        },
        {
          "data": {
            "image/png": "[encoded data removed]",
            "text/plain": [
              "<Figure size 640x480 with 1 Axes>"
            ]
          },
          "metadata": {},
          "output_type": "display_data"
        }
      ],
      "source": [
        "print(\"Number of rows per star rating:\")\n",
        "print(top_data_df['stars'].value_counts())\n",
        "\n",
        "# Function to map stars to sentiment\n",
        "def map_sentiment(stars_received):\n",
        "    try:\n",
        "        if int(stars_received) <= 2:\n",
        "            return -1\n",
        "        elif int(stars_received) == 3:\n",
        "            return 0\n",
        "        else:\n",
        "            return 1\n",
        "    except ValueError:\n",
        "        return 1\n",
        "# Mapping stars to sentiment into three categories\n",
        "top_data_df['stars'].drop(index=top_data_df['stars'].index[0])\n",
        "top_data_df['sentiment'] = [ map_sentiment(x) for x in top_data_df['stars']]\n",
        "# Plotting the sentiment distribution\n",
        "plt.figure()\n",
        "pd.value_counts(top_data_df['sentiment']).plot.bar(title=\"Sentiment distribution in df\")\n",
        "plt.xlabel(\"Sentiment\")\n",
        "plt.ylabel(\"No. of rows in df\")\n",
        "plt.show()"
      ]
    },
    {
      "cell_type": "code",
      "execution_count": 11,
      "metadata": {
        "colab": {
          "base_uri": "https://localhost:8080/",
          "height": 1000
        },
        "id": "E2bN2Xd3AUvK",
        "outputId": "d6cdd2c1-f334-4e80-a353-ca3b9c484578"
      },
      "outputs": [
        {
          "name": "stdout",
          "output_type": "stream",
          "text": [
            "After segregating and taking equal number of rows for each sentiment:\n",
            " 1    10000\n",
            "-1    10000\n",
            " 0    10000\n",
            "Name: sentiment, dtype: int64\n"
          ]
        },
        {
          "data": {
            "text/html": [
              "<div>\n",
              "<style scoped>\n",
              "    .dataframe tbody tr th:only-of-type {\n",
              "        vertical-align: middle;\n",
              "    }\n",
              "\n",
              "    .dataframe tbody tr th {\n",
              "        vertical-align: top;\n",
              "    }\n",
              "\n",
              "    .dataframe thead th {\n",
              "        text-align: right;\n",
              "    }\n",
              "</style>\n",
              "<table border=\"1\" class=\"dataframe\">\n",
              "  <thead>\n",
              "    <tr style=\"text-align: right;\">\n",
              "      <th></th>\n",
              "      <th>review_id</th>\n",
              "      <th>user_id</th>\n",
              "      <th>business_id</th>\n",
              "      <th>stars</th>\n",
              "      <th>useful</th>\n",
              "      <th>funny</th>\n",
              "      <th>cool</th>\n",
              "      <th>text</th>\n",
              "      <th>date</th>\n",
              "      <th>sentiment</th>\n",
              "    </tr>\n",
              "  </thead>\n",
              "  <tbody>\n",
              "    <tr>\n",
              "      <th>1</th>\n",
              "      <td>BiTunyQ73aT9WBnpR9DZGw</td>\n",
              "      <td>OyoGAe7OKpv6SyGZT5g77Q</td>\n",
              "      <td>7ATYjTIgM3jUlt4UM3IypQ</td>\n",
              "      <td>5</td>\n",
              "      <td>1</td>\n",
              "      <td>0</td>\n",
              "      <td>1</td>\n",
              "      <td>I've taken a lot of spin classes over the year...</td>\n",
              "      <td>2012-01-03 15:28:18</td>\n",
              "      <td>1</td>\n",
              "    </tr>\n",
              "    <tr>\n",
              "      <th>3</th>\n",
              "      <td>AqPFMleE6RsU23_auESxiA</td>\n",
              "      <td>_7bHUi9Uuf5__HHc_Q8guQ</td>\n",
              "      <td>kxX2SOes4o-D3ZQBkiMRfA</td>\n",
              "      <td>5</td>\n",
              "      <td>1</td>\n",
              "      <td>0</td>\n",
              "      <td>1</td>\n",
              "      <td>Wow!  Yummy, different,  delicious.   Our favo...</td>\n",
              "      <td>2015-01-04 00:01:03</td>\n",
              "      <td>1</td>\n",
              "    </tr>\n",
              "    <tr>\n",
              "      <th>4</th>\n",
              "      <td>Sx8TMOWLNuJBWer-0pcmoA</td>\n",
              "      <td>bcjbaE6dDog4jkNY91ncLQ</td>\n",
              "      <td>e4Vwtrqf-wpJfwesgvdgxQ</td>\n",
              "      <td>4</td>\n",
              "      <td>1</td>\n",
              "      <td>0</td>\n",
              "      <td>1</td>\n",
              "      <td>Cute interior and owner (?) gave us tour of up...</td>\n",
              "      <td>2017-01-14 20:54:15</td>\n",
              "      <td>1</td>\n",
              "    </tr>\n",
              "    <tr>\n",
              "      <th>6</th>\n",
              "      <td>6AxgBCNX_PNTOxmbRSwcKQ</td>\n",
              "      <td>r3zeYsv1XFBRA4dJpL78cw</td>\n",
              "      <td>gmjsEdUsKpj9Xxu6pdjH0g</td>\n",
              "      <td>5</td>\n",
              "      <td>0</td>\n",
              "      <td>2</td>\n",
              "      <td>0</td>\n",
              "      <td>Loved this tour! I grabbed a groupon and the p...</td>\n",
              "      <td>2015-01-03 23:21:18</td>\n",
              "      <td>1</td>\n",
              "    </tr>\n",
              "    <tr>\n",
              "      <th>7</th>\n",
              "      <td>_ZeMknuYdlQcUqng_Im3yg</td>\n",
              "      <td>yfFzsLmaWF2d4Sr0UNbBgg</td>\n",
              "      <td>LHSTtnW3YHCeUkRDGyJOyw</td>\n",
              "      <td>5</td>\n",
              "      <td>2</td>\n",
              "      <td>0</td>\n",
              "      <td>0</td>\n",
              "      <td>Amazingly amazing wings and homemade bleu chee...</td>\n",
              "      <td>2015-08-07 02:29:16</td>\n",
              "      <td>1</td>\n",
              "    </tr>\n",
              "    <tr>\n",
              "      <th>10</th>\n",
              "      <td>rGQRf8UafX7OTlMNN19I8A</td>\n",
              "      <td>1WHRWwQmZOZDAhp2Qyny4g</td>\n",
              "      <td>uMvVYRgGNXf5boolA9HXTw</td>\n",
              "      <td>5</td>\n",
              "      <td>2</td>\n",
              "      <td>0</td>\n",
              "      <td>0</td>\n",
              "      <td>My experience with Shalimar was nothing but wo...</td>\n",
              "      <td>2015-06-21 14:48:06</td>\n",
              "      <td>1</td>\n",
              "    </tr>\n",
              "    <tr>\n",
              "      <th>11</th>\n",
              "      <td>l3Wk_mvAog6XANIuGQ9C7Q</td>\n",
              "      <td>ZbqSHbgCjzVAqaa7NKWn5A</td>\n",
              "      <td>EQ-TZ2eeD_E0BHuvoaeG5Q</td>\n",
              "      <td>4</td>\n",
              "      <td>0</td>\n",
              "      <td>0</td>\n",
              "      <td>0</td>\n",
              "      <td>Locals recommended Milktooth, and it's an amaz...</td>\n",
              "      <td>2015-08-19 14:31:45</td>\n",
              "      <td>1</td>\n",
              "    </tr>\n",
              "    <tr>\n",
              "      <th>12</th>\n",
              "      <td>XW_LfMv0fV21l9c6xQd_lw</td>\n",
              "      <td>9OAtfnWag-ajVxRbUTGIyg</td>\n",
              "      <td>lj-E32x9_FA7GmUrBGBEWg</td>\n",
              "      <td>4</td>\n",
              "      <td>0</td>\n",
              "      <td>0</td>\n",
              "      <td>0</td>\n",
              "      <td>Love going here for happy hour or dinner!  Gre...</td>\n",
              "      <td>2014-06-27 22:44:01</td>\n",
              "      <td>1</td>\n",
              "    </tr>\n",
              "    <tr>\n",
              "      <th>13</th>\n",
              "      <td>8JFGBuHMoiNDyfcxuWNtrA</td>\n",
              "      <td>smOvOajNG0lS4Pq7d8g4JQ</td>\n",
              "      <td>RZtGWDLCAtuipwaZ-UfjmQ</td>\n",
              "      <td>4</td>\n",
              "      <td>0</td>\n",
              "      <td>0</td>\n",
              "      <td>0</td>\n",
              "      <td>Good food--loved the gnocchi with marinara\\nth...</td>\n",
              "      <td>2009-10-14 19:57:14</td>\n",
              "      <td>1</td>\n",
              "    </tr>\n",
              "    <tr>\n",
              "      <th>14</th>\n",
              "      <td>UBp0zWyH60Hmw6Fsasei7w</td>\n",
              "      <td>4Uh27DgGzsp6PqrH913giQ</td>\n",
              "      <td>otQS34_MymijPTdNBoBdCw</td>\n",
              "      <td>4</td>\n",
              "      <td>0</td>\n",
              "      <td>2</td>\n",
              "      <td>0</td>\n",
              "      <td>The bun makes the Sonoran Dog. It's like a snu...</td>\n",
              "      <td>2011-10-27 17:12:05</td>\n",
              "      <td>1</td>\n",
              "    </tr>\n",
              "  </tbody>\n",
              "</table>\n",
              "</div>"
            ],
            "text/plain": [
              "                 review_id                 user_id             business_id  \\\n",
              "1   BiTunyQ73aT9WBnpR9DZGw  OyoGAe7OKpv6SyGZT5g77Q  7ATYjTIgM3jUlt4UM3IypQ   \n",
              "3   AqPFMleE6RsU23_auESxiA  _7bHUi9Uuf5__HHc_Q8guQ  kxX2SOes4o-D3ZQBkiMRfA   \n",
              "4   Sx8TMOWLNuJBWer-0pcmoA  bcjbaE6dDog4jkNY91ncLQ  e4Vwtrqf-wpJfwesgvdgxQ   \n",
              "6   6AxgBCNX_PNTOxmbRSwcKQ  r3zeYsv1XFBRA4dJpL78cw  gmjsEdUsKpj9Xxu6pdjH0g   \n",
              "7   _ZeMknuYdlQcUqng_Im3yg  yfFzsLmaWF2d4Sr0UNbBgg  LHSTtnW3YHCeUkRDGyJOyw   \n",
              "10  rGQRf8UafX7OTlMNN19I8A  1WHRWwQmZOZDAhp2Qyny4g  uMvVYRgGNXf5boolA9HXTw   \n",
              "11  l3Wk_mvAog6XANIuGQ9C7Q  ZbqSHbgCjzVAqaa7NKWn5A  EQ-TZ2eeD_E0BHuvoaeG5Q   \n",
              "12  XW_LfMv0fV21l9c6xQd_lw  9OAtfnWag-ajVxRbUTGIyg  lj-E32x9_FA7GmUrBGBEWg   \n",
              "13  8JFGBuHMoiNDyfcxuWNtrA  smOvOajNG0lS4Pq7d8g4JQ  RZtGWDLCAtuipwaZ-UfjmQ   \n",
              "14  UBp0zWyH60Hmw6Fsasei7w  4Uh27DgGzsp6PqrH913giQ  otQS34_MymijPTdNBoBdCw   \n",
              "\n",
              "   stars useful funny cool                                               text  \\\n",
              "1      5      1     0    1  I've taken a lot of spin classes over the year...   \n",
              "3      5      1     0    1  Wow!  Yummy, different,  delicious.   Our favo...   \n",
              "4      4      1     0    1  Cute interior and owner (?) gave us tour of up...   \n",
              "6      5      0     2    0  Loved this tour! I grabbed a groupon and the p...   \n",
              "7      5      2     0    0  Amazingly amazing wings and homemade bleu chee...   \n",
              "10     5      2     0    0  My experience with Shalimar was nothing but wo...   \n",
              "11     4      0     0    0  Locals recommended Milktooth, and it's an amaz...   \n",
              "12     4      0     0    0  Love going here for happy hour or dinner!  Gre...   \n",
              "13     4      0     0    0  Good food--loved the gnocchi with marinara\\nth...   \n",
              "14     4      0     2    0  The bun makes the Sonoran Dog. It's like a snu...   \n",
              "\n",
              "                   date  sentiment  \n",
              "1   2012-01-03 15:28:18          1  \n",
              "3   2015-01-04 00:01:03          1  \n",
              "4   2017-01-14 20:54:15          1  \n",
              "6   2015-01-03 23:21:18          1  \n",
              "7   2015-08-07 02:29:16          1  \n",
              "10  2015-06-21 14:48:06          1  \n",
              "11  2015-08-19 14:31:45          1  \n",
              "12  2014-06-27 22:44:01          1  \n",
              "13  2009-10-14 19:57:14          1  \n",
              "14  2011-10-27 17:12:05          1  "
            ]
          },
          "execution_count": 11,
          "metadata": {},
          "output_type": "execute_result"
        }
      ],
      "source": [
        "# Function to retrieve top few number of each category\n",
        "def get_top_data(top_n = 5000):\n",
        "    top_data_df_positive = top_data_df[top_data_df['sentiment'] == 1].head(top_n)\n",
        "    top_data_df_negative = top_data_df[top_data_df['sentiment'] == -1].head(top_n)\n",
        "    top_data_df_neutral = top_data_df[top_data_df['sentiment'] == 0].head(top_n)\n",
        "    top_data_df_small = pd.concat([top_data_df_positive, top_data_df_negative, top_data_df_neutral])\n",
        "    return top_data_df_small\n",
        "\n",
        "# Function call to get the top 10000 from each sentiment\n",
        "top_data_df_small = get_top_data(top_n=10000)\n",
        "\n",
        "# After selecting top few samples of each sentiment\n",
        "print(\"After segregating and taking equal number of rows for each sentiment:\")\n",
        "print(top_data_df_small['sentiment'].value_counts())\n",
        "top_data_df_small.head(10)"
      ]
    },
    {
      "cell_type": "code",
      "execution_count": 12,
      "metadata": {
        "colab": {
          "base_uri": "https://localhost:8080/"
        },
        "id": "F9jfna-ndOJx",
        "outputId": "1a49b5e7-b5ce-4a83-f184-1c971ad48cfc"
      },
      "outputs": [
        {
          "name": "stdout",
          "output_type": "stream",
          "text": [
            "Restaurant good service!!\n"
          ]
        }
      ],
      "source": [
        "# Removing the stop words\n",
        "from gensim.parsing.preprocessing import remove_stopwords\n",
        "print(remove_stopwords(\"Restaurant had a really good service!!\"))"
      ]
    },
    {
      "cell_type": "code",
      "execution_count": 13,
      "metadata": {
        "colab": {
          "base_uri": "https://localhost:8080/"
        },
        "id": "JUnem3-LddtJ",
        "outputId": "27e7f744-6a6d-43e4-e212-3abc45da6994"
      },
      "outputs": [
        {
          "name": "stdout",
          "output_type": "stream",
          "text": [
            "1     [ve, taken, lot, of, spin, classes, over, the,...\n",
            "3     [wow, yummy, different, delicious, our, favori...\n",
            "4     [cute, interior, and, owner, gave, us, tour, o...\n",
            "6     [loved, this, tour, grabbed, groupon, and, the...\n",
            "7     [amazingly, amazing, wings, and, homemade, ble...\n",
            "10    [my, experience, with, shalimar, was, nothing,...\n",
            "11    [locals, recommended, milktooth, and, it, an, ...\n",
            "12    [love, going, here, for, happy, hour, or, dinn...\n",
            "13    [good, food, loved, the, gnocchi, with, marina...\n",
            "14    [the, bun, makes, the, sonoran, dog, it, like,...\n",
            "Name: tokenized_text, dtype: object\n"
          ]
        }
      ],
      "source": [
        "# Tokenize the text column to get the new column 'tokenized_text'\n",
        "from gensim.utils import simple_preprocess\n",
        "top_data_df_small['tokenized_text'] = [simple_preprocess(line, deacc=True) for line in top_data_df_small['text']] \n",
        "print(top_data_df_small['tokenized_text'].head(10))"
      ]
    },
    {
      "cell_type": "code",
      "execution_count": 14,
      "metadata": {
        "colab": {
          "base_uri": "https://localhost:8080/"
        },
        "id": "Pd54E5NNiIxF",
        "outputId": "25c2dddf-ad4e-49e0-817f-14cb8aa742c0"
      },
      "outputs": [
        {
          "data": {
            "text/plain": [
              "1     [ve, taken, lot, of, spin, class, over, the, y...\n",
              "3     [wow, yummi, differ, delici, our, favorit, is,...\n",
              "4     [cute, interior, and, owner, gave, us, tour, o...\n",
              "6     [love, thi, tour, grab, groupon, and, the, pri...\n",
              "7     [amazingli, amaz, wing, and, homemad, bleu, ch...\n",
              "10    [my, experi, with, shalimar, wa, noth, but, wo...\n",
              "11    [local, recommend, milktooth, and, it, an, ama...\n",
              "12    [love, go, here, for, happi, hour, or, dinner,...\n",
              "13    [good, food, love, the, gnocchi, with, marinar...\n",
              "14    [the, bun, make, the, sonoran, dog, it, like, ...\n",
              "Name: stemmed_tokens, dtype: object"
            ]
          },
          "execution_count": 14,
          "metadata": {},
          "output_type": "execute_result"
        }
      ],
      "source": [
        "from gensim.parsing.porter import PorterStemmer\n",
        "porter_stemmer = PorterStemmer()\n",
        "# Get the stemmed_tokens\n",
        "top_data_df_small['stemmed_tokens'] = [[porter_stemmer.stem(word) for word in tokens] for tokens in top_data_df_small['tokenized_text'] ]\n",
        "top_data_df_small['stemmed_tokens'].head(10)"
      ]
    },
    {
      "cell_type": "code",
      "execution_count": 15,
      "metadata": {
        "colab": {
          "base_uri": "https://localhost:8080/"
        },
        "id": "s9MMrQWziMwI",
        "outputId": "abd65b1d-e81d-4887-9f01-862d8da962f4"
      },
      "outputs": [
        {
          "name": "stdout",
          "output_type": "stream",
          "text": [
            "Value counts for Train sentiments\n",
            " 1    7036\n",
            "-1    7008\n",
            " 0    6956\n",
            "Name: sentiment, dtype: int64\n",
            "Value counts for Test sentiments\n",
            " 0    3044\n",
            "-1    2992\n",
            " 1    2964\n",
            "Name: sentiment, dtype: int64\n",
            "<class 'pandas.core.frame.DataFrame'>\n",
            "<class 'pandas.core.series.Series'>\n",
            "   index             business_id cool                 date funny  \\\n",
            "0  41968  h7zxeLAdUyAO6S6UzXJDwA    0  2018-05-20 02:15:46     0   \n",
            "1  21239  ySXKjndttZjNy3kcqRqG3g    0  2015-12-20 20:30:12     0   \n",
            "2  43746  9gObo5ltOMo6UgsaXaHPWA    0  2015-12-05 23:57:22     0   \n",
            "3  35110  tvbFcYCEQWc76CUK-nBw8w    0  2018-07-27 08:09:21     0   \n",
            "4   2960  Yv6HUVu7fRMnt_NtGdVQBw    0  2018-06-19 18:16:51     0   \n",
            "\n",
            "                review_id stars  \\\n",
            "0  xkcYjM_5w9rdSiN8_Qz_Tg     1   \n",
            "1  XIYnB19-LAI_yzJfB2d7eQ     3   \n",
            "2  Nm2XaG0sQ7p3LHoZG44cAg     1   \n",
            "3  L8Ape_IoEHiMjgiufwCp8Q     3   \n",
            "4  0uD1hdeUNPyfAaGOKpMMeQ     5   \n",
            "\n",
            "                                                text useful  \\\n",
            "0  Kids talking and being disruptive during the w...      1   \n",
            "1  I've had the clam chowder here about 5 times. ...      1   \n",
            "2  Horrible service. We made a reservation on Yel...      0   \n",
            "3  Decent Korean barbeque, but subpar cold buckwh...      0   \n",
            "4  This is one of our favorite spots in Nashville...      0   \n",
            "\n",
            "                  user_id                                     stemmed_tokens  \n",
            "0  sZwPzjw85nriL8tf2k_yLw  [kid, talk, and, be, disrupt, dure, the, whole...  \n",
            "1  Xp3-2ZMn5mxD--SH7mBKag  [ve, had, the, clam, chowder, here, about, tim...  \n",
            "2  q_9dwLqRBM4FkxtMjHe3qQ  [horribl, servic, we, made, reserv, on, yelp, ...  \n",
            "3  c9QdM3JbLT5sCwQ4hGcHIQ  [decent, korean, barbequ, but, subpar, cold, b...  \n",
            "4  DWGywipRRede0hIpZ4tDag  [thi, is, on, of, our, favorit, spot, in, nash...  \n"
          ]
        }
      ],
      "source": [
        "from sklearn.model_selection import train_test_split\n",
        "# Train Test Split Function\n",
        "def split_train_test(top_data_df_small, test_size=0.3, shuffle_state=True):\n",
        "    X_train, X_test, Y_train, Y_test = train_test_split(top_data_df_small[['business_id', 'cool', 'date', 'funny', 'review_id', 'stars', 'text', 'useful', 'user_id', 'stemmed_tokens']], \n",
        "                                                        top_data_df_small['sentiment'], \n",
        "                                                        shuffle=shuffle_state,\n",
        "                                                        test_size=test_size, \n",
        "                                                        random_state=15)\n",
        "    print(\"Value counts for Train sentiments\")\n",
        "    print(Y_train.value_counts())\n",
        "    print(\"Value counts for Test sentiments\")\n",
        "    print(Y_test.value_counts())\n",
        "    print(type(X_train))\n",
        "    print(type(Y_train))\n",
        "    X_train = X_train.reset_index()\n",
        "    X_test = X_test.reset_index()\n",
        "    Y_train = Y_train.to_frame()\n",
        "    Y_train = Y_train.reset_index()\n",
        "    Y_test = Y_test.to_frame()\n",
        "    Y_test = Y_test.reset_index()\n",
        "    print(X_train.head())\n",
        "    return X_train, X_test, Y_train, Y_test\n",
        "\n",
        "# Call the train_test_split\n",
        "X_train, X_test, Y_train, Y_test = split_train_test(top_data_df_small)"
      ]
    },
    {
      "cell_type": "code",
      "execution_count": 18,
      "metadata": {
        "colab": {
          "base_uri": "https://localhost:8080/"
        },
        "id": "yXCIL6UOj_a7",
        "outputId": "d942a0c2-19bb-4346-9520-47e35ad17889"
      },
      "outputs": [
        {
          "name": "stdout",
          "output_type": "stream",
          "text": [
            "30000\n"
          ]
        }
      ],
      "source": [
        "from gensim.models import Word2Vec\n",
        "size = 500\n",
        "window = 3\n",
        "min_count = 1\n",
        "workers = 3\n",
        "sg = 1\n",
        "OUTPUT_FOLDER = 'C:\\\\Users\\\\garvj\\\\Downloads\\\\NLP-HW2-main\\\\NLP-HW2-main\\\\OpData'\n",
        "# Function to train word2vec model\n",
        "def make_word2vec_model(top_data_df_small, padding=True, sg=1, min_count=1, size=500, workers=3, window=3):\n",
        "    if  padding:\n",
        "        print(len(top_data_df_small))\n",
        "        temp_df = pd.Series(top_data_df_small['stemmed_tokens']).values\n",
        "        temp_df = list(temp_df)\n",
        "        temp_df.append(['pad'])\n",
        "        word2vec_file = OUTPUT_FOLDER + '\\\\models\\\\'+'word2vec_' + str(size) + '_PAD.model'\n",
        "    else:\n",
        "        temp_df = top_data_df_small['stemmed_tokens']\n",
        "        word2vec_file = OUTPUT_FOLDER + '\\\\models\\\\' + 'word2vec_' + str(size) + '.model'\n",
        "    w2v_model = Word2Vec(temp_df, min_count = min_count, vector_size=size, workers = workers, window = window, sg = sg)\n",
        "\n",
        "    w2v_model.save(word2vec_file)\n",
        "    return w2v_model, word2vec_file\n",
        "\n",
        "# Train Word2vec model\n",
        "w2vmodel, word2vec_file = make_word2vec_model(top_data_df_small, padding=True, sg=sg, min_count=min_count, size=size, workers=workers, window=window)"
      ]
    },
    {
      "cell_type": "code",
      "execution_count": 19,
      "metadata": {
        "id": "ZjTXzlwllohM"
      },
      "outputs": [],
      "source": [
        "max_sen_len = top_data_df_small.stemmed_tokens.map(len).max()\n",
        "padding_idx = w2vmodel.wv.key_to_index['pad']\n",
        "def make_word2vec_vector_cnn(sentence):\n",
        "    padded_X = [padding_idx for i in range(max_sen_len)]\n",
        "    i = 0\n",
        "    for word in sentence:\n",
        "        if word not in w2vmodel.wv.key_to_index:\n",
        "            padded_X[i] = 0\n",
        "            print(word)\n",
        "        else:\n",
        "            padded_X[i] = w2vmodel.wv.key_to_index[word]\n",
        "        i += 1\n",
        "    return torch.tensor(padded_X, dtype=torch.long, device=device).view(1, -1)"
      ]
    },
    {
      "cell_type": "code",
      "execution_count": 20,
      "metadata": {
        "id": "WVyWDx0m6eJB"
      },
      "outputs": [],
      "source": [
        "# Function to get the output tensor\n",
        "def make_target(label):\n",
        "    if label == -1:\n",
        "        return torch.tensor([0], dtype=torch.long, device=device)\n",
        "    elif label == 0:\n",
        "        return torch.tensor([1], dtype=torch.long, device=device)\n",
        "    else:\n",
        "        return torch.tensor([2], dtype=torch.long, device=device)"
      ]
    },
    {
      "cell_type": "code",
      "execution_count": 22,
      "metadata": {
        "id": "xjIpl-5B6nzV"
      },
      "outputs": [],
      "source": [
        "EMBEDDING_SIZE = 500\n",
        "NUM_FILTERS = 10\n",
        "\n",
        "class CnnTextClassifier(nn.Module):\n",
        "    def __init__(self, vocab_size, num_classes, window_sizes=(1,2,3,5)):\n",
        "        super(CnnTextClassifier, self).__init__()\n",
        "        w2vmodel = gensim.models.KeyedVectors.load(OUTPUT_FOLDER + '\\\\models\\\\' + 'word2vec_500_PAD.model')\n",
        "        weights = w2vmodel.wv\n",
        "        # With pretrained embeddings\n",
        "        self.embedding = nn.Embedding.from_pretrained(torch.FloatTensor(weights.vectors), padding_idx=w2vmodel.wv.key_to_index['pad'])\n",
        "        # Without pretrained embeddings\n",
        "        # self.embedding = nn.Embedding(vocab_size, EMBEDDING_SIZE)\n",
        "\n",
        "        self.convs = nn.ModuleList([\n",
        "                                   nn.Conv2d(1, NUM_FILTERS, [window_size, EMBEDDING_SIZE], padding=(window_size - 1, 0))\n",
        "                                   for window_size in window_sizes\n",
        "        ])\n",
        "\n",
        "        self.fc = nn.Linear(NUM_FILTERS * len(window_sizes), num_classes)\n",
        "\n",
        "    def forward(self, x):\n",
        "        x = self.embedding(x) # [B, T, E]\n",
        "\n",
        "        # Apply a convolution + max_pool layer for each window size\n",
        "        x = torch.unsqueeze(x, 1)\n",
        "        xs = []\n",
        "        for conv in self.convs:\n",
        "            x2 = torch.tanh(conv(x))\n",
        "            x2 = torch.squeeze(x2, -1)\n",
        "            x2 = F.max_pool1d(x2, x2.size(2))\n",
        "            xs.append(x2)\n",
        "        x = torch.cat(xs, 2)\n",
        "\n",
        "        # FC\n",
        "        x = x.view(x.size(0), -1)\n",
        "        logits = self.fc(x)\n",
        "\n",
        "        probs = F.softmax(logits, dim = 1)\n",
        "\n",
        "        return probs"
      ]
    },
    {
      "cell_type": "code",
      "execution_count": 26,
      "metadata": {
        "colab": {
          "base_uri": "https://localhost:8080/"
        },
        "id": "BYSsT6Kc6w1F",
        "outputId": "d40036ac-a5a4-41ff-8d41-5aeabdf57565"
      },
      "outputs": [
        {
          "name": "stdout",
          "output_type": "stream",
          "text": [
            "Epoch1\n",
            "Epoch ran :1\n",
            "Epoch2\n",
            "Epoch ran :2\n",
            "Input vector\n",
            "[[  297    43   236   171     0    32     2   173    47   341   790     1\n",
            "  10123   108   275    62     2  1877   108   282     2   879    36   646\n",
            "     31  2320  1649   196     1   254     3   201    53     0  1719   166\n",
            "     31     0   201   989   247    15   263     1   504   466  1190     0\n",
            "     44    22     0    74     7   219    30  6008  1113  1113  1113  1113\n",
            "   1113  1113  1113  1113  1113  1113  1113  1113  1113  1113  1113  1113\n",
            "   1113  1113  1113  1113  1113  1113  1113  1113  1113  1113  1113  1113\n",
            "   1113  1113  1113  1113  1113  1113  1113  1113  1113  1113  1113  1113\n",
            "   1113  1113  1113  1113  1113  1113  1113  1113  1113  1113  1113  1113\n",
            "   1113  1113  1113  1113  1113  1113  1113  1113  1113  1113  1113  1113\n",
            "   1113  1113  1113  1113  1113  1113  1113  1113  1113  1113  1113  1113\n",
            "   1113  1113  1113  1113  1113  1113  1113  1113  1113  1113  1113  1113\n",
            "   1113  1113  1113  1113  1113  1113  1113  1113  1113  1113  1113  1113\n",
            "   1113  1113  1113  1113  1113  1113  1113  1113  1113  1113  1113  1113\n",
            "   1113  1113  1113  1113  1113  1113  1113  1113  1113  1113  1113  1113\n",
            "   1113  1113  1113  1113  1113  1113  1113  1113  1113  1113  1113  1113\n",
            "   1113  1113  1113  1113  1113  1113  1113  1113  1113  1113  1113  1113\n",
            "   1113  1113  1113  1113  1113  1113  1113  1113  1113  1113  1113  1113\n",
            "   1113  1113  1113  1113  1113  1113  1113  1113  1113  1113  1113  1113\n",
            "   1113  1113  1113  1113  1113  1113  1113  1113  1113  1113  1113  1113\n",
            "   1113  1113  1113  1113  1113  1113  1113  1113  1113  1113  1113  1113\n",
            "   1113  1113  1113  1113  1113  1113  1113  1113  1113  1113  1113  1113\n",
            "   1113  1113  1113  1113  1113  1113  1113  1113  1113  1113  1113  1113\n",
            "   1113  1113  1113  1113  1113  1113  1113  1113  1113  1113  1113  1113\n",
            "   1113  1113  1113  1113  1113  1113  1113  1113  1113  1113  1113  1113\n",
            "   1113  1113  1113  1113  1113  1113  1113  1113  1113  1113  1113  1113\n",
            "   1113  1113  1113  1113  1113  1113  1113  1113  1113  1113  1113  1113\n",
            "   1113  1113  1113  1113  1113  1113  1113  1113  1113  1113  1113  1113\n",
            "   1113  1113  1113  1113  1113  1113  1113  1113  1113  1113  1113  1113\n",
            "   1113  1113  1113  1113  1113  1113  1113  1113  1113  1113  1113  1113\n",
            "   1113  1113  1113  1113  1113  1113  1113  1113  1113  1113  1113  1113\n",
            "   1113  1113  1113  1113  1113  1113  1113  1113  1113  1113  1113  1113\n",
            "   1113  1113  1113  1113  1113  1113  1113  1113  1113  1113  1113  1113\n",
            "   1113  1113  1113  1113  1113  1113  1113  1113  1113  1113  1113  1113\n",
            "   1113  1113  1113  1113  1113  1113  1113  1113  1113  1113  1113  1113\n",
            "   1113  1113  1113  1113  1113  1113  1113  1113  1113  1113  1113  1113\n",
            "   1113  1113  1113  1113  1113  1113  1113  1113  1113  1113  1113  1113\n",
            "   1113  1113  1113  1113  1113  1113  1113  1113  1113  1113  1113  1113\n",
            "   1113  1113  1113  1113  1113  1113  1113  1113  1113  1113  1113  1113\n",
            "   1113  1113  1113  1113  1113  1113  1113  1113  1113  1113  1113  1113\n",
            "   1113  1113  1113  1113  1113  1113  1113  1113  1113  1113  1113  1113\n",
            "   1113  1113  1113  1113  1113  1113  1113  1113  1113  1113  1113  1113\n",
            "   1113  1113  1113  1113  1113  1113  1113  1113  1113  1113  1113  1113\n",
            "   1113  1113  1113  1113  1113  1113  1113  1113  1113  1113  1113  1113\n",
            "   1113  1113  1113  1113  1113  1113  1113  1113  1113  1113  1113  1113\n",
            "   1113  1113  1113  1113  1113  1113  1113  1113  1113  1113  1113  1113\n",
            "   1113  1113  1113  1113  1113  1113  1113  1113  1113  1113  1113  1113\n",
            "   1113  1113  1113  1113  1113  1113  1113  1113  1113  1113  1113  1113\n",
            "   1113  1113  1113  1113  1113  1113  1113  1113  1113  1113  1113  1113\n",
            "   1113  1113  1113  1113  1113  1113  1113  1113  1113  1113  1113  1113\n",
            "   1113  1113  1113  1113  1113  1113  1113  1113  1113  1113  1113  1113\n",
            "   1113  1113  1113  1113  1113  1113  1113  1113  1113  1113  1113  1113\n",
            "   1113  1113  1113  1113  1113  1113  1113  1113  1113  1113  1113  1113\n",
            "   1113  1113  1113  1113  1113  1113  1113  1113  1113  1113  1113  1113\n",
            "   1113  1113  1113  1113  1113  1113  1113  1113  1113  1113  1113  1113\n",
            "   1113  1113  1113  1113  1113  1113  1113  1113  1113  1113  1113  1113\n",
            "   1113  1113  1113  1113  1113  1113  1113  1113  1113  1113  1113  1113\n",
            "   1113  1113  1113  1113  1113  1113  1113  1113  1113  1113  1113  1113\n",
            "   1113  1113  1113  1113  1113  1113  1113  1113  1113  1113  1113  1113\n",
            "   1113  1113  1113  1113  1113  1113  1113  1113  1113  1113  1113  1113\n",
            "   1113  1113  1113  1113  1113  1113  1113  1113  1113  1113  1113  1113\n",
            "   1113  1113  1113  1113  1113  1113  1113  1113  1113  1113  1113  1113\n",
            "   1113  1113  1113  1113  1113  1113  1113  1113  1113  1113  1113  1113\n",
            "   1113  1113  1113  1113  1113  1113  1113  1113  1113  1113  1113  1113\n",
            "   1113  1113  1113  1113  1113  1113  1113  1113  1113  1113  1113  1113\n",
            "   1113  1113  1113  1113  1113  1113  1113  1113  1113  1113  1113  1113\n",
            "   1113  1113  1113  1113  1113  1113  1113  1113  1113  1113  1113  1113\n",
            "   1113  1113  1113  1113  1113  1113  1113  1113  1113  1113  1113  1113\n",
            "   1113  1113  1113  1113  1113  1113  1113  1113  1113  1113  1113  1113\n",
            "   1113  1113  1113  1113  1113  1113  1113  1113  1113  1113  1113  1113\n",
            "   1113  1113  1113  1113  1113  1113  1113  1113  1113  1113  1113  1113\n",
            "   1113  1113  1113  1113  1113  1113  1113  1113  1113  1113  1113  1113\n",
            "   1113  1113  1113  1113  1113  1113  1113  1113  1113  1113  1113  1113\n",
            "   1113  1113  1113  1113  1113  1113  1113  1113  1113  1113  1113  1113\n",
            "   1113  1113  1113  1113  1113  1113  1113  1113  1113  1113  1113  1113\n",
            "   1113  1113  1113  1113  1113  1113  1113  1113  1113  1113  1113  1113\n",
            "   1113  1113  1113  1113  1113  1113  1113  1113  1113  1113  1113  1113\n",
            "   1113  1113  1113]]\n",
            "Probs\n",
            "tensor([[4.0077e-09, 4.2564e-06, 1.0000e+00]], grad_fn=<SoftmaxBackward0>)\n",
            "2\n"
          ]
        }
      ],
      "source": [
        "NUM_CLASSES = 3\n",
        "vocab_len = len(w2vmodel.wv)\n",
        "\n",
        "cnn_model = CnnTextClassifier(vocab_size=vocab_len, num_classes=NUM_CLASSES)\n",
        "cnn_model.to(device)\n",
        "loss_function = nn.CrossEntropyLoss()\n",
        "optimizer = optim.Adam(cnn_model.parameters(), lr=0.001)\n",
        "num_epochs = 2\n",
        "\n",
        "# Open the file for writing loss\n",
        "loss_file_name = OUTPUT_FOLDER +  '\\\\plots\\\\' + 'cnn_class_big_loss_with_padding.csv'\n",
        "f = open(loss_file_name,'w')\n",
        "f.write('iter, loss')\n",
        "f.write('\\n')\n",
        "losses = []\n",
        "cnn_model.train()\n",
        "for epoch in range(num_epochs):\n",
        "    print(\"Epoch\" + str(epoch + 1))\n",
        "    train_loss = 0\n",
        "    for index, row in X_train.iterrows():\n",
        "        # Clearing the accumulated gradients\n",
        "        cnn_model.zero_grad()\n",
        "\n",
        "        # Make the bag of words vector for stemmed tokens \n",
        "        bow_vec = make_word2vec_vector_cnn(row['stemmed_tokens'])\n",
        "       \n",
        "        # Forward pass to get output\n",
        "        probs = cnn_model(bow_vec)\n",
        "\n",
        "        # Get the target label\n",
        "        target = make_target(Y_train['sentiment'][index])\n",
        "\n",
        "        # Calculate Loss: softmax --> cross entropy loss\n",
        "        loss = loss_function(probs, target)\n",
        "        train_loss += loss.item()\n",
        "\n",
        "        # Getting gradients w.r.t. parameters\n",
        "        loss.backward()\n",
        "\n",
        "        # Updating parameters\n",
        "        optimizer.step()\n",
        "\n",
        "\n",
        "    # if index == 0:\n",
        "    #     continue\n",
        "    print(\"Epoch ran :\"+ str(epoch+1))\n",
        "    f.write(str((epoch+1)) + \",\" + str(train_loss / len(X_train)))\n",
        "    f.write('\\n')\n",
        "    train_loss = 0\n",
        "\n",
        "torch.save(cnn_model, OUTPUT_FOLDER +'\\\\' +'cnn_big_model_500_with_padding.pth')\n",
        "\n",
        "f.close()\n",
        "print(\"Input vector\")\n",
        "print(bow_vec.cpu().numpy())\n",
        "print(\"Probs\")\n",
        "print(probs)\n",
        "print(torch.argmax(probs, dim=1).cpu().numpy()[0])"
      ]
    },
    {
      "cell_type": "code",
      "execution_count": 28,
      "metadata": {
        "colab": {
          "base_uri": "https://localhost:8080/"
        },
        "id": "87bY3I3CMBKA",
        "outputId": "04f90cb4-3aaa-47c1-dc1e-e629f8f7fcea"
      },
      "outputs": [
        {
          "name": "stdout",
          "output_type": "stream",
          "text": [
            "+----------------+------------+\n",
            "|    Modules     | Parameters |\n",
            "+----------------+------------+\n",
            "| convs.0.weight |    5000    |\n",
            "|  convs.0.bias  |     10     |\n",
            "| convs.1.weight |   10000    |\n",
            "|  convs.1.bias  |     10     |\n",
            "| convs.2.weight |   15000    |\n",
            "|  convs.2.bias  |     10     |\n",
            "| convs.3.weight |   25000    |\n",
            "|  convs.3.bias  |     10     |\n",
            "|   fc.weight    |    120     |\n",
            "|    fc.bias     |     3      |\n",
            "+----------------+------------+\n",
            "Total Trainable Params: 55163\n"
          ]
        },
        {
          "data": {
            "text/plain": [
              "55163"
            ]
          },
          "execution_count": 28,
          "metadata": {},
          "output_type": "execute_result"
        }
      ],
      "source": [
        "from prettytable import PrettyTable\n",
        "def count_parameters(model):\n",
        "    table = PrettyTable([\"Modules\", \"Parameters\"])\n",
        "    total_params = 0\n",
        "    for name, parameter in model.named_parameters():\n",
        "        if not parameter.requires_grad: continue\n",
        "        params = parameter.numel()\n",
        "        table.add_row([name, params])\n",
        "        total_params+=params\n",
        "    print(table)\n",
        "    print(f\"Total Trainable Params: {total_params}\")\n",
        "    return total_params\n",
        "\n",
        "count_parameters(cnn_model)"
      ]
    },
    {
      "cell_type": "code",
      "execution_count": 29,
      "metadata": {
        "colab": {
          "base_uri": "https://localhost:8080/",
          "height": 644
        },
        "id": "FvjcqzF5Fn0k",
        "outputId": "e28be72a-602f-4eee-c8f5-9d5a76245cc6"
      },
      "outputs": [
        {
          "name": "stdout",
          "output_type": "stream",
          "text": [
            "Index(['iter', ' loss'], dtype='object')\n",
            "              precision    recall  f1-score   support\n",
            "\n",
            "           0       0.78      0.75      0.76      2992\n",
            "           1       0.66      0.55      0.60      3044\n",
            "           2       0.70      0.85      0.77      2964\n",
            "\n",
            "    accuracy                           0.71      9000\n",
            "   macro avg       0.71      0.71      0.71      9000\n",
            "weighted avg       0.71      0.71      0.71      9000\n",
            "\n",
            "Index(['iter', ' loss'], dtype='object')\n"
          ]
        },
        {
          "data": {
            "image/png": "[encoded data removed]",
            "text/plain": [
              "<Figure size 640x480 with 1 Axes>"
            ]
          },
          "metadata": {},
          "output_type": "display_data"
        }
      ],
      "source": [
        "from sklearn.metrics import classification_report\n",
        "bow_cnn_predictions = []\n",
        "original_lables_cnn_bow = []\n",
        "cnn_model.eval()\n",
        "loss_df = pd.read_csv(OUTPUT_FOLDER + '\\\\plots\\\\'+'cnn_class_big_loss_with_padding.csv')\n",
        "print(loss_df.columns)\n",
        "# loss_df.plot('loss')\n",
        "with torch.no_grad():\n",
        "    for index, row in X_test.iterrows():\n",
        "        bow_vec = make_word2vec_vector_cnn(row['stemmed_tokens'])\n",
        "        probs = cnn_model(bow_vec)\n",
        "        _, predicted = torch.max(probs.data, 1)\n",
        "        bow_cnn_predictions.append(predicted.cpu().numpy()[0])\n",
        "        original_lables_cnn_bow.append(make_target(Y_test['sentiment'][index]).cpu().numpy()[0])\n",
        "print(classification_report(original_lables_cnn_bow,bow_cnn_predictions))\n",
        "loss_file_name = OUTPUT_FOLDER +  '\\\\plots\\\\' + 'cnn_class_big_loss_with_padding.csv'\n",
        "loss_df = pd.read_csv(loss_file_name)\n",
        "print(loss_df.columns)\n",
        "plt_500_padding_30_epochs = loss_df[' loss'].plot()\n",
        "fig = plt_500_padding_30_epochs.get_figure()\n",
        "fig.savefig(OUTPUT_FOLDER +'\\\\plots\\\\' + 'loss_plt_500_padding_30_epochs.pdf')\n"
      ]
    },
    {
      "cell_type": "code",
      "execution_count": 34,
      "metadata": {},
      "outputs": [],
      "source": [
        "class SentimentLSTM(nn.Module):\n",
        "    \"\"\"\n",
        "    The RNN model that will be used to perform Sentiment analysis.\n",
        "    \"\"\"\n",
        "\n",
        "    def __init__(self, vocab_size, output_size, embedding_dim, hidden_dim, n_layers, drop_prob=0.5):\n",
        "        \"\"\"\n",
        "        Initialize the model by setting up the layers.\n",
        "        \"\"\"\n",
        "        super().__init__()\n",
        "\n",
        "        self.output_size = output_size\n",
        "        self.n_layers = n_layers\n",
        "        self.hidden_dim = hidden_dim\n",
        "        \n",
        "        w2vmodel = gensim.models.KeyedVectors.load(OUTPUT_FOLDER+ '\\\\models\\\\' + 'word2vec_500_PAD.model')\n",
        "        weights = w2vmodel.wv\n",
        "        # With pretrained embeddings\n",
        "        self.embedding = nn.Embedding.from_pretrained(torch.FloatTensor(weights.vectors), padding_idx=w2vmodel.wv.key_to_index['pad'])\n",
        "        # embedding and LSTM layers\n",
        "        self.lstm = nn.LSTM(embedding_dim, hidden_dim, n_layers, \n",
        "                            dropout=drop_prob, batch_first=True)\n",
        "        \n",
        "        # dropout layer\n",
        "        self.dropout = nn.Dropout(0.3)\n",
        "        \n",
        "        # linear and sigmoid layers\n",
        "        self.fc = nn.Linear(hidden_dim, output_size)\n",
        "        self.sig = nn.Sigmoid()\n",
        "        \n",
        "\n",
        "    def forward(self, x, hidden):\n",
        "        \"\"\"\n",
        "        Perform a forward pass of our model on some input and hidden state.\n",
        "        \"\"\"\n",
        "        batch_size = x.size(0)\n",
        "\n",
        "        # embeddings and lstm_out\n",
        "        embeds = self.embedding(x)\n",
        "        lstm_out, hidden = self.lstm(embeds, hidden)\n",
        "    \n",
        "        # stack up lstm outputs\n",
        "        lstm_out = lstm_out.contiguous().view(-1, self.hidden_dim)\n",
        "        \n",
        "        # dropout and fully-connected layer\n",
        "        out = self.dropout(lstm_out)\n",
        "        out = self.fc(out)\n",
        "        # sigmoid function\n",
        "        sig_out = self.sig(out)\n",
        "        \n",
        "        # reshape to be batch_size first\n",
        "        sig_out = sig_out.view(batch_size, -1)\n",
        "        sig_out = sig_out[:, -1] # get last batch of labels\n",
        "        \n",
        "        # return last sigmoid output and hidden state\n",
        "        return sig_out, hidden\n",
        "    \n",
        "    \n",
        "    def init_hidden(self, batch_size, train_on_gpu=True):\n",
        "        ''' Initializes hidden state '''\n",
        "        # Create two new tensors with sizes n_layers x batch_size x hidden_dim,\n",
        "        # initialized to zero, for hidden state and cell state of LSTM\n",
        "        weight = next(self.parameters()).data\n",
        "        \n",
        "        if (train_on_gpu):\n",
        "            hidden = (weight.new(self.n_layers, batch_size, self.hidden_dim).zero_().cuda(),\n",
        "                  weight.new(self.n_layers, batch_size, self.hidden_dim).zero_().cuda())\n",
        "        else:\n",
        "            hidden = (weight.new(self.n_layers, batch_size, self.hidden_dim).zero_(),\n",
        "                      weight.new(self.n_layers, batch_size, self.hidden_dim).zero_())\n",
        "        \n",
        "        return hidden"
      ]
    },
    {
      "cell_type": "code",
      "execution_count": 39,
      "metadata": {},
      "outputs": [
        {
          "name": "stdout",
          "output_type": "stream",
          "text": [
            "Epoch1\n"
          ]
        },
        {
          "name": "stderr",
          "output_type": "stream",
          "text": [
            "  0%|          | 0/21000 [00:00<?, ?it/s]\n"
          ]
        },
        {
          "ename": "TypeError",
          "evalue": "SentimentLSTM.forward() missing 1 required positional argument: 'hidden'",
          "output_type": "error",
          "traceback": [
            "\u001b[1;31m---------------------------------------------------------------------------\u001b[0m",
            "\u001b[1;31mTypeError\u001b[0m                                 Traceback (most recent call last)",
            "Cell \u001b[1;32mIn[39], line 28\u001b[0m\n\u001b[0;32m     25\u001b[0m bow_vec \u001b[39m=\u001b[39m make_word2vec_vector_cnn(row[\u001b[39m'\u001b[39m\u001b[39mstemmed_tokens\u001b[39m\u001b[39m'\u001b[39m])\n\u001b[0;32m     27\u001b[0m \u001b[39m# Forward pass to get output\u001b[39;00m\n\u001b[1;32m---> 28\u001b[0m probs \u001b[39m=\u001b[39m cnn_model(bow_vec)\n\u001b[0;32m     30\u001b[0m \u001b[39m# Get the target label\u001b[39;00m\n\u001b[0;32m     31\u001b[0m target \u001b[39m=\u001b[39m make_target(Y_train[\u001b[39m'\u001b[39m\u001b[39msentiment\u001b[39m\u001b[39m'\u001b[39m][index])\n",
            "File \u001b[1;32mc:\\Users\\garvj\\AppData\\Local\\Programs\\Python\\Python310\\lib\\site-packages\\torch\\nn\\modules\\module.py:1501\u001b[0m, in \u001b[0;36mModule._call_impl\u001b[1;34m(self, *args, **kwargs)\u001b[0m\n\u001b[0;32m   1496\u001b[0m \u001b[39m# If we don't have any hooks, we want to skip the rest of the logic in\u001b[39;00m\n\u001b[0;32m   1497\u001b[0m \u001b[39m# this function, and just call forward.\u001b[39;00m\n\u001b[0;32m   1498\u001b[0m \u001b[39mif\u001b[39;00m \u001b[39mnot\u001b[39;00m (\u001b[39mself\u001b[39m\u001b[39m.\u001b[39m_backward_hooks \u001b[39mor\u001b[39;00m \u001b[39mself\u001b[39m\u001b[39m.\u001b[39m_backward_pre_hooks \u001b[39mor\u001b[39;00m \u001b[39mself\u001b[39m\u001b[39m.\u001b[39m_forward_hooks \u001b[39mor\u001b[39;00m \u001b[39mself\u001b[39m\u001b[39m.\u001b[39m_forward_pre_hooks\n\u001b[0;32m   1499\u001b[0m         \u001b[39mor\u001b[39;00m _global_backward_pre_hooks \u001b[39mor\u001b[39;00m _global_backward_hooks\n\u001b[0;32m   1500\u001b[0m         \u001b[39mor\u001b[39;00m _global_forward_hooks \u001b[39mor\u001b[39;00m _global_forward_pre_hooks):\n\u001b[1;32m-> 1501\u001b[0m     \u001b[39mreturn\u001b[39;00m forward_call(\u001b[39m*\u001b[39margs, \u001b[39m*\u001b[39m\u001b[39m*\u001b[39mkwargs)\n\u001b[0;32m   1502\u001b[0m \u001b[39m# Do not call functions when jit is used\u001b[39;00m\n\u001b[0;32m   1503\u001b[0m full_backward_hooks, non_full_backward_hooks \u001b[39m=\u001b[39m [], []\n",
            "\u001b[1;31mTypeError\u001b[0m: SentimentLSTM.forward() missing 1 required positional argument: 'hidden'"
          ]
        }
      ],
      "source": [
        "from tqdm import tqdm\n",
        "NUM_CLASSES = 3\n",
        "VOCAB_SIZE = len(w2vmodel.wv.index_to_key)\n",
        "\n",
        "cnn_model = SentimentLSTM(vocab_size=VOCAB_SIZE, output_size=NUM_CLASSES, embedding_dim=EMBEDDING_SIZE, hidden_dim = 256, n_layers=2)\n",
        "cnn_model.to(device)\n",
        "loss_function = nn.CrossEntropyLoss()\n",
        "optimizer = optim.Adam(cnn_model.parameters(), lr=0.001)\n",
        "num_epochs = 2\n",
        "\n",
        "\n",
        "with open(OUTPUT_FOLDER+ '\\\\lstm\\\\'+ '\\\\plots\\\\'+'lstm_class_big_loss_with_padding.csv','w') as f:\n",
        "    f.write('iter, loss')\n",
        "    f.write('\\n')\n",
        "losses = []\n",
        "cnn_model.train()\n",
        "for epoch in range(num_epochs):\n",
        "    print(\"Epoch\" + str(epoch + 1))\n",
        "    train_loss = 0\n",
        "    for index, row in tqdm(X_train.iterrows(), total=len(X_train)):\n",
        "        # Clearing the accumulated gradients\n",
        "        cnn_model.zero_grad()\n",
        "\n",
        "        # Make the bag of words vector for stemmed tokens \n",
        "        bow_vec = make_word2vec_vector_cnn(row['stemmed_tokens'])\n",
        "       \n",
        "        # Forward pass to get output\n",
        "        probs = cnn_model(bow_vec)\n",
        "\n",
        "        # Get the target label\n",
        "        target = make_target(Y_train['sentiment'][index])\n",
        "\n",
        "        # Calculate Loss: softmax --> cross entropy loss\n",
        "        loss = loss_function(probs, target)\n",
        "        train_loss += loss.item()\n",
        "\n",
        "        # Getting gradients w.r.t. parameters\n",
        "        loss.backward()\n",
        "\n",
        "        # Updating parameters\n",
        "        optimizer.step()\n",
        "\n",
        "\n",
        "    # if index == 0:\n",
        "    #     continue\n",
        "    print(\"Score: \" + str((epoch+1)) + \",\" + str(train_loss / len(X_train)))\n",
        "    with open(OUTPUT_FOLDER+ '\\\\lstm\\\\'+ '\\\\plots\\\\'+'lstm_class_big_loss_with_padding.csv', 'a') as f:\n",
        "        f.write(str((epoch+1)) + \",\" + str(train_loss / len(X_train)))\n",
        "        f.write('\\n')\n",
        "    \n",
        "    if epoch % 5 == 0:\n",
        "        torch.save({\n",
        "            'epoch': epoch,\n",
        "            'model_state_dict': cnn_model.state_dict(),\n",
        "            'optimizer_state_dict': optimizer.state_dict(),\n",
        "            'loss': train_loss,\n",
        "            }, OUTPUT_FOLDER+ '\\\\lstm\\\\'+ '\\\\ckpts\\\\'+ f'epoch_{epoch}.pt')\n",
        "    train_loss = 0\n",
        "\n",
        "torch.save(cnn_model, OUTPUT_FOLDER+ '\\\\lstm\\\\'+ 'lstm_big_model_500_with_padding.pth')\n",
        "print(\"Input vector\")\n",
        "print(bow_vec.cpu().numpy())\n",
        "print(\"Probs\")\n",
        "print(probs)\n",
        "print(torch.argmax(probs, dim=1).cpu().numpy()[0])"
      ]
    }
  ],
  "metadata": {
    "accelerator": "GPU",
    "colab": {
      "provenance": []
    },
    "gpuClass": "standard",
    "kernelspec": {
      "display_name": "Python 3",
      "language": "python",
      "name": "python3"
    },
    "language_info": {
      "codemirror_mode": {
        "name": "ipython",
        "version": 3
      },
      "file_extension": ".py",
      "mimetype": "text/x-python",
      "name": "python",
      "nbconvert_exporter": "python",
      "pygments_lexer": "ipython3",
      "version": "3.10.0"
    },
    "vscode": {
      "interpreter": {
        "hash": "5af70a8aa4fb29a3b1b799246f5d87835530d7555518af64c16de48a2087e63b"
      }
    }
  },
  "nbformat": 4,
  "nbformat_minor": 0
}
